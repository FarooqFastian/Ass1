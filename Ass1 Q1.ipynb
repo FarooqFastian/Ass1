{
 "cells": [
  {
   "cell_type": "code",
   "execution_count": 9,
   "metadata": {},
   "outputs": [
    {
     "name": "stdout",
     "output_type": "stream",
     "text": [
      "Enter Radius of Circle: 5\n",
      "5\n",
      "78.55\n"
     ]
    }
   ],
   "source": [
    "import math\n",
    "radius=  int(input(\"Enter Radius of Circle: \"))\n",
    "print(radius)\n",
    "Area= 3.142*math.pow(radius,2)\n",
    "print(Area)"
   ]
  },
  {
   "cell_type": "code",
   "execution_count": null,
   "metadata": {},
   "outputs": [],
   "source": []
  }
 ],
 "metadata": {
  "kernelspec": {
   "display_name": "Python 3",
   "language": "python",
   "name": "python3"
  }
 },
 "nbformat": 4,
 "nbformat_minor": 2
}
