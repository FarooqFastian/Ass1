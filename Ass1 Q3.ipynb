{
 "cells": [
  {
   "cell_type": "code",
   "execution_count": 6,
   "metadata": {},
   "outputs": [
    {
     "name": "stdout",
     "output_type": "stream",
     "text": [
      "Enter 1st Number: 8\n",
      "Enter 2nd Number: 8\n",
      "1st Number is Completely divisible by 2nd Number.\n"
     ]
    }
   ],
   "source": [
    "Number1 = int(input(\"Enter 1st Number: \"))\n",
    "Number2 = int(input(\"Enter 2nd Number: \"))\n",
    "if(Number1 % Number2 == 0):\n",
    "    print(\"1st Number is Completely divisible by 2nd Number.\")\n",
    "else:\n",
    "    print(\"1st Number is not Completely divisible by 2nd Number.\")\n"
   ]
  }
 ],
 "metadata": {
  "kernelspec": {
   "display_name": "Python 3",
   "language": "python",
   "name": "python3"
  },
  "language_info": {
   "codemirror_mode": {
    "name": "ipython",
    "version": 3
   },
   "file_extension": ".py",
   "mimetype": "text/x-python",
   "name": "python",
   "nbconvert_exporter": "python",
   "pygments_lexer": "ipython3",
   "version": "3.6.5"
  }
 },
 "nbformat": 4,
 "nbformat_minor": 2
}
