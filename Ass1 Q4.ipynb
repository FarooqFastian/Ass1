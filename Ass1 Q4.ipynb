{
 "cells": [
  {
   "cell_type": "code",
   "execution_count": 2,
   "metadata": {},
   "outputs": [
    {
     "name": "stdout",
     "output_type": "stream",
     "text": [
      "_______1st Date_______\n",
      "Enter a year: 1995\n",
      "Enter a month: 7\n",
      "Enter a day: 3\n",
      "1995-07-03\n",
      "______________________\n",
      "_______2nd Date_______\n",
      "Enter a year: 2019\n",
      "Enter a month: 6\n",
      "Enter a day: 27\n",
      "There are 8760 days in between 1995-07-03 and 2019-06-27\n"
     ]
    }
   ],
   "source": [
    "import datetime\n",
    "print(\"_______1st Date_______\")\n",
    "year = int(input('Enter a year: '))\n",
    "month = int(input('Enter a month: '))\n",
    "day = int(input('Enter a day: '))\n",
    "d0 = datetime.date(year, month, day)\n",
    "print(d0)\n",
    "\n",
    "print(\"______________________\")\n",
    "print(\"_______2nd Date_______\")\n",
    "year = int(input('Enter a year: '))\n",
    "month = int(input('Enter a month: '))\n",
    "day = int(input('Enter a day: '))\n",
    "d1 = datetime.date(year, month, day)\n",
    "\n",
    "Difference_Date = d1 - d0\n",
    "print (\"There are {0} days in between {1} and {2}\".format(Difference_Date.days,d0,d1))"
   ]
  },
  {
   "cell_type": "code",
   "execution_count": null,
   "metadata": {},
   "outputs": [],
   "source": []
  }
 ],
 "metadata": {
  "kernelspec": {
   "display_name": "Python 3",
   "language": "python",
   "name": "python3"
  }
 },
 "nbformat": 4,
 "nbformat_minor": 2
}
