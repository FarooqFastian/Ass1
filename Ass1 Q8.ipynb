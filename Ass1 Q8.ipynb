{
 "cells": [
  {
   "cell_type": "code",
   "execution_count": 6,
   "metadata": {},
   "outputs": [
    {
     "name": "stdout",
     "output_type": "stream",
     "text": [
      "Enter a character: U\n",
      "Letter U is Vowel\n"
     ]
    }
   ],
   "source": [
    "vowel = {'A','E','I','O','U','a','e','i','o','u'}\n",
    "char = input(\"Enter a character: \")\n",
    "count=0\n",
    "for n in vowel:\n",
    "    if(n == char):\n",
    "        count=1\n",
    "        break\n",
    "\n",
    "if(count==1):\n",
    "    print(\"Letter {0} is Vowel\".format(char))\n",
    "else:\n",
    "    print(\"Letter {0} is not Vowel\".format(char))\n",
    "        "
   ]
  },
  {
   "cell_type": "code",
   "execution_count": null,
   "metadata": {},
   "outputs": [],
   "source": []
  }
 ],
 "metadata": {
  "kernelspec": {
   "display_name": "Python 3",
   "language": "python",
   "name": "python3"
  },
  "language_info": {
   "codemirror_mode": {
    "name": "ipython",
    "version": 3
   },
   "file_extension": ".py",
   "mimetype": "text/x-python",
   "name": "python",
   "nbconvert_exporter": "python",
   "pygments_lexer": "ipython3",
   "version": "3.6.5"
  }
 },
 "nbformat": 4,
 "nbformat_minor": 2
}
