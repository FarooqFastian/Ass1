{
 "cells": [
  {
   "cell_type": "code",
   "execution_count": 11,
   "metadata": {},
   "outputs": [
    {
     "name": "stdout",
     "output_type": "stream",
     "text": [
      "_______1st Date_______\n",
      "Enter a year: 1995\n",
      "Enter a month: 5\n",
      "Enter a day: 6\n",
      "______________________\n",
      "_______2nd Date_______\n",
      "Enter a year: 2005\n",
      "Enter a month: 6\n",
      "Enter a day: 5\n",
      "3683\n"
     ]
    }
   ],
   "source": [
    "import datetime\n",
    "print(\"_______1st Date_______\")\n",
    "year = int(input('Enter a year: '))\n",
    "month = int(input('Enter a month: '))\n",
    "day = int(input('Enter a day: '))\n",
    "d0 = datetime.date(year, month, day)\n",
    "\n",
    "print(\"______________________\")\n",
    "print(\"_______2nd Date_______\")\n",
    "year = int(input('Enter a year: '))\n",
    "month = int(input('Enter a month: '))\n",
    "day = int(input('Enter a day: '))\n",
    "d1 = datetime.date(year, month, day)\n",
    "\n",
    "Difference_Date = d1 - d0\n",
    "print (Difference_Date.days)"
   ]
  },
  {
   "cell_type": "code",
   "execution_count": null,
   "metadata": {},
   "outputs": [],
   "source": []
  }
 ],
 "metadata": {
  "kernelspec": {
   "display_name": "Python 3",
   "language": "python",
   "name": "python3"
  },
  "language_info": {
   "codemirror_mode": {
    "name": "ipython",
    "version": 3
   },
   "file_extension": ".py",
   "mimetype": "text/x-python",
   "name": "python",
   "nbconvert_exporter": "python",
   "pygments_lexer": "ipython3",
   "version": "3.6.5"
  }
 },
 "nbformat": 4,
 "nbformat_minor": 2
}
