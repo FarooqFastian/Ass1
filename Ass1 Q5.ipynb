{
 "cells": [
  {
   "cell_type": "code",
   "execution_count": 5,
   "metadata": {},
   "outputs": [
    {
     "name": "stdout",
     "output_type": "stream",
     "text": [
      "Enter radius of the sphere : 1\n",
      "The volume of the sphere with radius 1 is 4.19\n"
     ]
    }
   ],
   "source": [
    "import math\n",
    "from decimal import Decimal \n",
    "Radius = int(input(\"Enter radius of the sphere : \"))\n",
    "V= (4/3) * 3.142 * math.pow(Radius,3)\n",
    "V=round(V,2)\n",
    "print(\"The volume of the sphere with radius {0} is {1}\".format(Radius,V))"
   ]
  },
  {
   "cell_type": "code",
   "execution_count": null,
   "metadata": {},
   "outputs": [],
   "source": []
  }
 ],
 "metadata": {
  "kernelspec": {
   "display_name": "Python 3",
   "language": "python",
   "name": "python3"
  },
  "language_info": {
   "codemirror_mode": {
    "name": "ipython",
    "version": 3
   },
   "file_extension": ".py",
   "mimetype": "text/x-python",
   "name": "python",
   "nbconvert_exporter": "python",
   "pygments_lexer": "ipython3",
   "version": "3.6.5"
  }
 },
 "nbformat": 4,
 "nbformat_minor": 2
}
