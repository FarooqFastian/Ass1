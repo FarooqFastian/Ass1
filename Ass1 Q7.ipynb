{
 "cells": [
  {
   "cell_type": "code",
   "execution_count": 6,
   "metadata": {},
   "outputs": [
    {
     "name": "stdout",
     "output_type": "stream",
     "text": [
      "Enter a Number: 18\n",
      "Difference is 1.\n"
     ]
    }
   ],
   "source": [
    "Number = int(input(\"Enter a Number: \"))\n",
    "if(Number < 17 ):\n",
    "    Result = 17 - Number\n",
    "else:\n",
    "    Result = Number - 17\n",
    "print(\"Difference is {0}.\".format(Result))"
   ]
  },
  {
   "cell_type": "code",
   "execution_count": null,
   "metadata": {},
   "outputs": [],
   "source": []
  }
 ],
 "metadata": {
  "kernelspec": {
   "display_name": "Python 3",
   "language": "python",
   "name": "python3"
  },
  "language_info": {
   "codemirror_mode": {
    "name": "ipython",
    "version": 3
   },
   "file_extension": ".py",
   "mimetype": "text/x-python",
   "name": "python",
   "nbconvert_exporter": "python",
   "pygments_lexer": "ipython3",
   "version": "3.6.5"
  }
 },
 "nbformat": 4,
 "nbformat_minor": 2
}
